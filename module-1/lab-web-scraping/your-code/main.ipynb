{
 "cells": [
  {
   "cell_type": "markdown",
   "metadata": {},
   "source": [
    "# Web Scraping Lab\n",
    "\n",
    "You will find in this notebook some scrapy exercises to practise your scraping skills.\n",
    "\n",
    "**Tips:**\n",
    "\n",
    "- Check the response status code for each request to ensure you have obtained the intended contennt.\n",
    "- Print the response text in each request to understand the kind of info you are getting and its format.\n",
    "- Check for patterns in the response text to extract the data/info requested in each question.\n",
    "- Visit each url and take a look at its source through Chrome DevTools. You'll need to identify the html tags, special class names etc. used for the html content you are expected to extract."
   ]
  },
  {
   "cell_type": "markdown",
   "metadata": {},
   "source": [
    "- [Requests library](http://docs.python-requests.org/en/master/#the-user-guide) documentation \n",
    "- [Beautiful Soup Doc](https://www.crummy.com/software/BeautifulSoup/bs4/doc/)\n",
    "- [Urllib](https://docs.python.org/3/library/urllib.html#module-urllib)\n",
    "- [re lib](https://docs.python.org/3/library/re.html)\n",
    "- [lxml lib](https://lxml.de/)\n",
    "- [Scrapy](https://scrapy.org/)\n",
    "- [List of HTTP status codes](https://en.wikipedia.org/wiki/List_of_HTTP_status_codes)\n",
    "- [HTML basics](http://www.simplehtmlguide.com/cheatsheet.php)\n",
    "- [CSS basics](https://www.cssbasics.com/#page_start)"
   ]
  },
  {
   "cell_type": "markdown",
   "metadata": {},
   "source": [
    "#### Below are the libraries and modules you may need. `requests`,  `BeautifulSoup` and `pandas` are imported for you. If you prefer to use additional libraries feel free to uncomment them."
   ]
  },
  {
   "cell_type": "code",
   "execution_count": null,
   "metadata": {},
   "outputs": [],
   "source": [
    "import requests\n",
    "from bs4 import BeautifulSoup\n",
    "import pandas as pd\n",
    "# from pprint import pprint\n",
    "# from lxml import html\n",
    "# from lxml.html import fromstring\n",
    "# import urllib.request\n",
    "# from urllib.request import urlopen\n",
    "import random\n",
    "import re\n",
    "import scrapy"
   ]
  },
  {
   "cell_type": "markdown",
   "metadata": {},
   "source": [
    "#### Download, parse (using BeautifulSoup), and print the content from the Trending Developers page from GitHub:"
   ]
  },
  {
   "cell_type": "code",
   "execution_count": null,
   "metadata": {},
   "outputs": [],
   "source": [
    "# This is the url you will scrape in this exercise\n",
    "url = 'https://github.com/trending/developers'"
   ]
  },
  {
   "cell_type": "code",
   "execution_count": 4,
   "metadata": {},
   "outputs": [],
   "source": [
    "html = requests.get(url).text"
   ]
  },
  {
   "cell_type": "code",
   "execution_count": 5,
   "metadata": {},
   "outputs": [],
   "source": [
    "soup = BeautifulSoup(html, 'html.parser')"
   ]
  },
  {
   "cell_type": "markdown",
   "metadata": {},
   "source": [
    "#### Display the names of the trending developers retrieved in the previous step.\n",
    "\n",
    "Your output should be a Python list of developer names. Each name should not contain any html tag.\n",
    "\n",
    "**Instructions:**\n",
    "\n",
    "1. Find out the html tag and class names used for the developer names. You can achieve this using Chrome DevTools.\n",
    "\n",
    "1. Use BeautifulSoup to extract all the html elements that contain the developer names.\n",
    "\n",
    "1. Use string manipulation techniques to replace whitespaces and linebreaks (i.e. `\\n`) in the *text* of each html element. Use a list to store the clean names.\n",
    "\n",
    "1. Print the list of names.\n",
    "\n",
    "Your output should look like below:\n",
    "\n",
    "```\n",
    "['trimstray (@trimstray)',\n",
    " 'joewalnes (JoeWalnes)',\n",
    " 'charlax (Charles-AxelDein)',\n",
    " 'ForrestKnight (ForrestKnight)',\n",
    " 'revery-ui (revery-ui)',\n",
    " 'alibaba (Alibaba)',\n",
    " 'Microsoft (Microsoft)',\n",
    " 'github (GitHub)',\n",
    " 'facebook (Facebook)',\n",
    " 'boazsegev (Bo)',\n",
    " 'google (Google)',\n",
    " 'cloudfetch',\n",
    " 'sindresorhus (SindreSorhus)',\n",
    " 'tensorflow',\n",
    " 'apache (TheApacheSoftwareFoundation)',\n",
    " 'DevonCrawford (DevonCrawford)',\n",
    " 'ARMmbed (ArmMbed)',\n",
    " 'vuejs (vuejs)',\n",
    " 'fastai (fast.ai)',\n",
    " 'QiShaoXuan (Qi)',\n",
    " 'joelparkerhenderson (JoelParkerHenderson)',\n",
    " 'torvalds (LinusTorvalds)',\n",
    " 'CyC2018',\n",
    " 'komeiji-satori (神楽坂覚々)',\n",
    " 'script-8']\n",
    " ```"
   ]
  },
  {
   "cell_type": "code",
   "execution_count": 8,
   "metadata": {},
   "outputs": [],
   "source": [
    "filter1 = soup.find_all('h1',{'class':\"h3 lh-condensed\"})"
   ]
  },
  {
   "cell_type": "code",
   "execution_count": 13,
   "metadata": {},
   "outputs": [
    {
     "name": "stdout",
     "output_type": "stream",
     "text": [
      "['Emmanuel Garcia', 'Hugo van Kemenade', 'Darío Kondratiuk', 'Megan Marsh', 'Minko Gechev', 'William Falcon', 'Yoshifumi Kawai', 'Mateusz Burzyński', 'Sam Verschueren', 'Whyrusleeping', 'Holger Rapp', 'Francois Zaninotto', 'Dylan Vann', 'Miek Gieben', 'Richard Schneeman', 'Alec Thomas', '陈帅', 'François Beaufort', 'Tanner Linsley', 'Erik Wijmans', 'Joshua Blum', 'Gabriel Aszalos', 'Rico Sta. Cruz', 'Solly Ross', 'Vinayak Mehta']\n"
     ]
    }
   ],
   "source": [
    "filt = [filt.text.strip().split(\"\\n\") for filt in filter1]    \n",
    "names = []\n",
    "[names.append(row) for rows in filt for row in rows]\n",
    "print(names)"
   ]
  },
  {
   "cell_type": "code",
   "execution_count": 10,
   "metadata": {},
   "outputs": [],
   "source": [
    "filt_nick = soup.find_all('a', {\"class\" : \"link-gray \"})"
   ]
  },
  {
   "cell_type": "code",
   "execution_count": 14,
   "metadata": {},
   "outputs": [
    {
     "name": "stdout",
     "output_type": "stream",
     "text": [
      "['blasten', 'hugovk', 'kblok', 'SwampDragons', 'mgechev', 'williamFalcon', 'neuecc', 'Andarist', 'SamVerschueren', 'whyrusleeping', 'SirVer', 'fzaninotto', 'DylanVann', 'miekg', 'schneems', 'alecthomas', 'chenshuai2144', 'beaufortfrancois', 'tannerlinsley', 'erikwijmans', 'joshblum', 'gbbr', 'rstacruz', 'DirectXMan12', 'vinayak-mehta', 'Partners', 'Atom', 'Electron', 'GitHub Desktop', 'Help', 'Community Forum', 'Professional Services', 'Learning Lab', 'Status', 'Contact GitHub', 'About', 'Blog']\n"
     ]
    }
   ],
   "source": [
    "filt_nick2 = [filt_nick2.text.strip().split('\\n') for filt_nick2 in filt_nick]\n",
    "nicks = [] \n",
    "[nicks.append(row) for rows in filt_nick2 for row in rows]\n",
    "print(nicks)"
   ]
  },
  {
   "cell_type": "code",
   "execution_count": 12,
   "metadata": {},
   "outputs": [
    {
     "name": "stdout",
     "output_type": "stream",
     "text": [
      "[('Emmanuel Garcia', 'blasten'), ('Hugo van Kemenade', 'hugovk'), ('Darío Kondratiuk', 'kblok'), ('Megan Marsh', 'SwampDragons'), ('Minko Gechev', 'mgechev'), ('William Falcon', 'williamFalcon'), ('Yoshifumi Kawai', 'neuecc'), ('Mateusz Burzyński', 'Andarist'), ('Sam Verschueren', 'SamVerschueren'), ('Whyrusleeping', 'whyrusleeping'), ('Holger Rapp', 'SirVer'), ('Francois Zaninotto', 'fzaninotto'), ('Dylan Vann', 'DylanVann'), ('Miek Gieben', 'miekg'), ('Richard Schneeman', 'schneems'), ('Alec Thomas', 'alecthomas'), ('陈帅', 'chenshuai2144'), ('François Beaufort', 'beaufortfrancois'), ('Tanner Linsley', 'tannerlinsley'), ('Erik Wijmans', 'erikwijmans'), ('Joshua Blum', 'joshblum'), ('Gabriel Aszalos', 'gbbr'), ('Rico Sta. Cruz', 'rstacruz'), ('Solly Ross', 'DirectXMan12'), ('Vinayak Mehta', 'vinayak-mehta')]\n"
     ]
    }
   ],
   "source": [
    "print(list(zip(names, nicks)))"
   ]
  },
  {
   "cell_type": "markdown",
   "metadata": {},
   "source": [
    "#### Display the trending Python repositories in GitHub\n",
    "\n",
    "The steps to solve this problem is similar to the previous one except that you need to find out the repository names instead of developer names."
   ]
  },
  {
   "cell_type": "code",
   "execution_count": 23,
   "metadata": {},
   "outputs": [],
   "source": [
    "# This is the url you will scrape in this exercise\n",
    "url = 'https://github.com/trending/python?since=daily'"
   ]
  },
  {
   "cell_type": "code",
   "execution_count": 24,
   "metadata": {},
   "outputs": [],
   "source": [
    "html = requests.get(url).text"
   ]
  },
  {
   "cell_type": "code",
   "execution_count": 25,
   "metadata": {},
   "outputs": [],
   "source": [
    "soup = BeautifulSoup(html, 'html.parser')"
   ]
  },
  {
   "cell_type": "code",
   "execution_count": 26,
   "metadata": {},
   "outputs": [
    {
     "ename": "TypeError",
     "evalue": "expected string or bytes-like object",
     "output_type": "error",
     "traceback": [
      "\u001b[0;31m---------------------------------------------------------------------------\u001b[0m",
      "\u001b[0;31mTypeError\u001b[0m                                 Traceback (most recent call last)",
      "\u001b[0;32m<ipython-input-26-d31dc59c61db>\u001b[0m in \u001b[0;36m<module>\u001b[0;34m\u001b[0m\n\u001b[1;32m      2\u001b[0m \u001b[0;32mfor\u001b[0m \u001b[0mlst\u001b[0m \u001b[0;32min\u001b[0m \u001b[0mfiltro\u001b[0m\u001b[0;34m:\u001b[0m\u001b[0;34m\u001b[0m\u001b[0;34m\u001b[0m\u001b[0m\n\u001b[1;32m      3\u001b[0m     \u001b[0;32mfor\u001b[0m \u001b[0mitem\u001b[0m \u001b[0;32min\u001b[0m \u001b[0mlst\u001b[0m\u001b[0;34m:\u001b[0m\u001b[0;34m\u001b[0m\u001b[0;34m\u001b[0m\u001b[0m\n\u001b[0;32m----> 4\u001b[0;31m         \u001b[0;32mif\u001b[0m \u001b[0;32mnot\u001b[0m \u001b[0mre\u001b[0m\u001b[0;34m.\u001b[0m\u001b[0msearch\u001b[0m\u001b[0;34m(\u001b[0m\u001b[0;34mr''\u001b[0m\u001b[0;34m,\u001b[0m\u001b[0mitem\u001b[0m\u001b[0;34m)\u001b[0m\u001b[0;34m:\u001b[0m\u001b[0;34m\u001b[0m\u001b[0;34m\u001b[0m\u001b[0m\n\u001b[0m\u001b[1;32m      5\u001b[0m             \u001b[0mrepos\u001b[0m\u001b[0;34m.\u001b[0m\u001b[0mappend\u001b[0m\u001b[0;34m(\u001b[0m\u001b[0mitem\u001b[0m\u001b[0;34m)\u001b[0m\u001b[0;34m\u001b[0m\u001b[0;34m\u001b[0m\u001b[0m\n\u001b[1;32m      6\u001b[0m \u001b[0mprint\u001b[0m\u001b[0;34m(\u001b[0m\u001b[0mrepos\u001b[0m\u001b[0;34m)\u001b[0m\u001b[0;34m\u001b[0m\u001b[0;34m\u001b[0m\u001b[0m\n",
      "\u001b[0;32m/usr/lib/python3.6/re.py\u001b[0m in \u001b[0;36msearch\u001b[0;34m(pattern, string, flags)\u001b[0m\n\u001b[1;32m    180\u001b[0m     \"\"\"Scan through string looking for a match to the pattern, returning\n\u001b[1;32m    181\u001b[0m     a match object, or None if no match was found.\"\"\"\n\u001b[0;32m--> 182\u001b[0;31m     \u001b[0;32mreturn\u001b[0m \u001b[0m_compile\u001b[0m\u001b[0;34m(\u001b[0m\u001b[0mpattern\u001b[0m\u001b[0;34m,\u001b[0m \u001b[0mflags\u001b[0m\u001b[0;34m)\u001b[0m\u001b[0;34m.\u001b[0m\u001b[0msearch\u001b[0m\u001b[0;34m(\u001b[0m\u001b[0mstring\u001b[0m\u001b[0;34m)\u001b[0m\u001b[0;34m\u001b[0m\u001b[0;34m\u001b[0m\u001b[0m\n\u001b[0m\u001b[1;32m    183\u001b[0m \u001b[0;34m\u001b[0m\u001b[0m\n\u001b[1;32m    184\u001b[0m \u001b[0;32mdef\u001b[0m \u001b[0msub\u001b[0m\u001b[0;34m(\u001b[0m\u001b[0mpattern\u001b[0m\u001b[0;34m,\u001b[0m \u001b[0mrepl\u001b[0m\u001b[0;34m,\u001b[0m \u001b[0mstring\u001b[0m\u001b[0;34m,\u001b[0m \u001b[0mcount\u001b[0m\u001b[0;34m=\u001b[0m\u001b[0;36m0\u001b[0m\u001b[0;34m,\u001b[0m \u001b[0mflags\u001b[0m\u001b[0;34m=\u001b[0m\u001b[0;36m0\u001b[0m\u001b[0;34m)\u001b[0m\u001b[0;34m:\u001b[0m\u001b[0;34m\u001b[0m\u001b[0;34m\u001b[0m\u001b[0m\n",
      "\u001b[0;31mTypeError\u001b[0m: expected string or bytes-like object"
     ]
    }
   ],
   "source": [
    "filtro = soup.find_all('h1' ,{'class' :'h3 lh-condensed'})\n",
    "for lst in filtro:\n",
    "    for item in lst:\n",
    "        if not re.search(r'',item):\n",
    "            repos.append(item)\n",
    "print(repos)"
   ]
  },
  {
   "cell_type": "markdown",
   "metadata": {},
   "source": [
    "#### Display all the image links from Walt Disney wikipedia page"
   ]
  },
  {
   "cell_type": "code",
   "execution_count": 28,
   "metadata": {},
   "outputs": [],
   "source": [
    "# This is the url you will scrape in this exercise\n",
    "url = 'https://en.wikipedia.org/wiki/Walt_Disney'"
   ]
  },
  {
   "cell_type": "code",
   "execution_count": 29,
   "metadata": {},
   "outputs": [],
   "source": [
    "html = requests.get(url).text"
   ]
  },
  {
   "cell_type": "code",
   "execution_count": 31,
   "metadata": {},
   "outputs": [],
   "source": [
    "soup = BeautifulSoup(html, 'html.parser')"
   ]
  },
  {
   "cell_type": "code",
   "execution_count": 32,
   "metadata": {},
   "outputs": [
    {
     "name": "stdout",
     "output_type": "stream",
     "text": [
      "['https://en.wikipedia.org//wiki/File:Walt_Disney_1946.JPG', 'https://en.wikipedia.org//wiki/File:Walt_Disney_1942_signature.svg', 'https://en.wikipedia.org//wiki/File:Walt_Disney_envelope_ca._1921.jpg', 'https://en.wikipedia.org//wiki/File:Trolley_Troubles_poster.jpg', 'https://en.wikipedia.org//wiki/File:Walt_Disney_and_his_cartoon_creation_%22Mickey_Mouse%22_-_National_Board_of_Review_Magazine.jpg', 'https://en.wikipedia.org//wiki/File:Steamboat-willie.jpg', 'https://en.wikipedia.org//wiki/File:Walt_Disney_1935.jpg', 'https://en.wikipedia.org//wiki/File:Walt_Disney_Snow_white_1937_trailer_screenshot_(13).jpg', 'https://en.wikipedia.org//wiki/File:Disney_drawing_goofy.jpg', 'https://en.wikipedia.org//wiki/File:DisneySchiphol1951.jpg', 'https://en.wikipedia.org//wiki/File:WaltDisneyplansDisneylandDec1954.jpg', 'https://en.wikipedia.org//wiki/File:Walt_disney_portrait_right.jpg', 'https://en.wikipedia.org//wiki/File:Walt_Disney_Grave.JPG', 'https://en.wikipedia.org//wiki/File:Roy_O._Disney_with_Company_at_Press_Conference.jpg', 'https://en.wikipedia.org//wiki/File:Disney_Display_Case.JPG', 'https://en.wikipedia.org//wiki/File:Disney1968.jpg', 'https://en.wikipedia.org//wiki/File:Animation_disc.svg', 'https://en.wikipedia.org//wiki/File:P_vip.svg', 'https://en.wikipedia.org//wiki/File:Magic_Kingdom_castle.jpg', 'https://en.wikipedia.org//wiki/File:Video-x-generic.svg', 'https://en.wikipedia.org//wiki/File:Flag_of_Los_Angeles_County,_California.svg', 'https://en.wikipedia.org//wiki/File:Blank_television_set.svg', 'https://en.wikipedia.org//wiki/File:Flag_of_the_United_States.svg']\n"
     ]
    }
   ],
   "source": [
    "href = []\n",
    "for e in soup.find_all('a', {\"class\":\"image\"}):\n",
    "    href.append('https://en.wikipedia.org/{}'.format(e.get('href')))\n",
    "print(href)"
   ]
  },
  {
   "cell_type": "markdown",
   "metadata": {},
   "source": [
    "#### Retrieve an arbitary Wikipedia page of \"Python\" and create a list of links on that page"
   ]
  },
  {
   "cell_type": "code",
   "execution_count": 33,
   "metadata": {},
   "outputs": [],
   "source": [
    "# This is the url you will scrape in this exercise\n",
    "url ='https://en.wikipedia.org/wiki/Python' "
   ]
  },
  {
   "cell_type": "code",
   "execution_count": 34,
   "metadata": {},
   "outputs": [],
   "source": [
    "html = requests.get(url).text"
   ]
  },
  {
   "cell_type": "code",
   "execution_count": 35,
   "metadata": {
    "scrolled": true
   },
   "outputs": [],
   "source": [
    "soup = BeautifulSoup(html, 'html.parser')"
   ]
  },
  {
   "cell_type": "code",
   "execution_count": 36,
   "metadata": {},
   "outputs": [
    {
     "name": "stdout",
     "output_type": "stream",
     "text": [
      "['https://en.wikipedia.org//w/load.php?lang=en&modules=ext.3d.styles%7Cext.uls.interlanguage%7Cext.visualEditor.desktopArticleTarget.noscript%7Cext.wikimediaBadges%7Cmediawiki.legacy.commonPrint%2Cshared%7Cmediawiki.skinning.interface%7Cmediawiki.toc.styles%7Cskins.vector.styles%7Cwikibase.client.init&only=styles&skin=vector', 'https://en.wikipedia.org//w/load.php?lang=en&modules=site.styles&only=styles&skin=vector', 'https://en.wikipedia.org/android-app://org.wikipedia/http/en.m.wikipedia.org/wiki/Python', 'https://en.wikipedia.org//w/index.php?title=Python&action=edit', 'https://en.wikipedia.org//w/index.php?title=Python&action=edit', 'https://en.wikipedia.org//static/apple-touch/wikipedia.png', 'https://en.wikipedia.org//static/favicon/wikipedia.ico', 'https://en.wikipedia.org//w/opensearch_desc.php', 'https://en.wikipedia.org///en.wikipedia.org/w/api.php?action=rsd', 'https://en.wikipedia.org///creativecommons.org/licenses/by-sa/3.0/', 'https://en.wikipedia.org/https://en.wikipedia.org/wiki/Python', 'https://en.wikipedia.org///login.wikimedia.org', 'https://en.wikipedia.org///meta.wikimedia.org', 'https://en.wikipedia.org/#mw-head', 'https://en.wikipedia.org/#p-search', 'https://en.wikipedia.org/https://en.wiktionary.org/wiki/Python', 'https://en.wikipedia.org/https://en.wiktionary.org/wiki/python', 'https://en.wikipedia.org/#Snakes', 'https://en.wikipedia.org/#Ancient_Greece', 'https://en.wikipedia.org/#Media_and_entertainment', 'https://en.wikipedia.org/#Computing', 'https://en.wikipedia.org/#Engineering', 'https://en.wikipedia.org/#Roller_coasters', 'https://en.wikipedia.org/#Vehicles', 'https://en.wikipedia.org/#Weaponry', 'https://en.wikipedia.org/#People', 'https://en.wikipedia.org/#Other_uses', 'https://en.wikipedia.org/#See_also', 'https://en.wikipedia.org//w/index.php?title=Python&action=edit&section=1', 'https://en.wikipedia.org//wiki/Pythonidae', 'https://en.wikipedia.org//wiki/Python_(genus)', 'https://en.wikipedia.org//w/index.php?title=Python&action=edit&section=2', 'https://en.wikipedia.org//wiki/Python_(mythology)', 'https://en.wikipedia.org//wiki/Python_of_Aenus', 'https://en.wikipedia.org//wiki/Python_(painter)', 'https://en.wikipedia.org//wiki/Python_of_Byzantium', 'https://en.wikipedia.org//wiki/Python_of_Catana', 'https://en.wikipedia.org//w/index.php?title=Python&action=edit&section=3', 'https://en.wikipedia.org//wiki/Python_(film)', 'https://en.wikipedia.org//wiki/Pythons_2', 'https://en.wikipedia.org//wiki/Monty_Python', 'https://en.wikipedia.org//wiki/Python_(Monty)_Pictures', 'https://en.wikipedia.org//w/index.php?title=Python&action=edit&section=4', 'https://en.wikipedia.org//wiki/Python_(programming_language)', 'https://en.wikipedia.org//wiki/CPython', 'https://en.wikipedia.org//wiki/CMU_Common_Lisp', 'https://en.wikipedia.org//wiki/PERQ#PERQ_3', 'https://en.wikipedia.org//w/index.php?title=Python&action=edit&section=5', 'https://en.wikipedia.org//w/index.php?title=Python&action=edit&section=6', 'https://en.wikipedia.org//wiki/Python_(Busch_Gardens_Tampa_Bay)', 'https://en.wikipedia.org//wiki/Python_(Coney_Island,_Cincinnati,_Ohio)', 'https://en.wikipedia.org//wiki/Python_(Efteling)', 'https://en.wikipedia.org//w/index.php?title=Python&action=edit&section=7', 'https://en.wikipedia.org//wiki/Python_(automobile_maker)', 'https://en.wikipedia.org//wiki/Python_(Ford_prototype)', 'https://en.wikipedia.org//w/index.php?title=Python&action=edit&section=8', 'https://en.wikipedia.org//wiki/Colt_Python', 'https://en.wikipedia.org//wiki/Python_(missile)', 'https://en.wikipedia.org//wiki/Python_(nuclear_primary)', 'https://en.wikipedia.org//w/index.php?title=Python&action=edit&section=9', 'https://en.wikipedia.org//wiki/Python_Anghelo', 'https://en.wikipedia.org//w/index.php?title=Python&action=edit&section=10', 'https://en.wikipedia.org//wiki/PYTHON', 'https://en.wikipedia.org//w/index.php?title=Python&action=edit&section=11', 'https://en.wikipedia.org//wiki/Cython', 'https://en.wikipedia.org//wiki/Pyton', 'https://en.wikipedia.org//wiki/File:Disambig_gray.svg', 'https://en.wikipedia.org//wiki/Help:Disambiguation', 'https://en.wikipedia.org/https://en.wikipedia.org/w/index.php?title=Special:WhatLinksHere/Python&namespace=0', 'https://en.wikipedia.org/https://en.wikipedia.org/w/index.php?title=Python&oldid=924004650', 'https://en.wikipedia.org//wiki/Help:Category', 'https://en.wikipedia.org//wiki/Category:Disambiguation_pages', 'https://en.wikipedia.org//wiki/Category:Disambiguation_pages_with_short_description', 'https://en.wikipedia.org//wiki/Category:All_article_disambiguation_pages', 'https://en.wikipedia.org//wiki/Category:All_disambiguation_pages', 'https://en.wikipedia.org//wiki/Category:Animal_common_name_disambiguation_pages', 'https://en.wikipedia.org//wiki/Special:MyTalk', 'https://en.wikipedia.org//wiki/Special:MyContributions', 'https://en.wikipedia.org//w/index.php?title=Special:CreateAccount&returnto=Python', 'https://en.wikipedia.org//w/index.php?title=Special:UserLogin&returnto=Python', 'https://en.wikipedia.org//wiki/Python', 'https://en.wikipedia.org//wiki/Talk:Python', 'https://en.wikipedia.org//wiki/Python', 'https://en.wikipedia.org//w/index.php?title=Python&action=edit', 'https://en.wikipedia.org//w/index.php?title=Python&action=history', 'https://en.wikipedia.org//wiki/Main_Page', 'https://en.wikipedia.org//wiki/Main_Page', 'https://en.wikipedia.org//wiki/Portal:Contents', 'https://en.wikipedia.org//wiki/Portal:Featured_content', 'https://en.wikipedia.org//wiki/Portal:Current_events', 'https://en.wikipedia.org//wiki/Special:Random', 'https://en.wikipedia.org/https://donate.wikimedia.org/wiki/Special:FundraiserRedirector?utm_source=donate&utm_medium=sidebar&utm_campaign=C13_en.wikipedia.org&uselang=en', 'https://en.wikipedia.org///shop.wikimedia.org', 'https://en.wikipedia.org//wiki/Help:Contents', 'https://en.wikipedia.org//wiki/Wikipedia:About', 'https://en.wikipedia.org//wiki/Wikipedia:Community_portal', 'https://en.wikipedia.org//wiki/Special:RecentChanges', 'https://en.wikipedia.org///en.wikipedia.org/wiki/Wikipedia:Contact_us', 'https://en.wikipedia.org//wiki/Special:WhatLinksHere/Python', 'https://en.wikipedia.org//wiki/Special:RecentChangesLinked/Python', 'https://en.wikipedia.org//wiki/Wikipedia:File_Upload_Wizard', 'https://en.wikipedia.org//wiki/Special:SpecialPages', 'https://en.wikipedia.org//w/index.php?title=Python&oldid=924004650', 'https://en.wikipedia.org//w/index.php?title=Python&action=info', 'https://en.wikipedia.org/https://www.wikidata.org/wiki/Special:EntityPage/Q747452', 'https://en.wikipedia.org//w/index.php?title=Special:CiteThisPage&page=Python&id=924004650', 'https://en.wikipedia.org/https://commons.wikimedia.org/wiki/Category:Python', 'https://en.wikipedia.org//w/index.php?title=Special:Book&bookcmd=book_creator&referer=Python', 'https://en.wikipedia.org//w/index.php?title=Special:ElectronPdf&page=Python&action=show-download-screen', 'https://en.wikipedia.org//w/index.php?title=Python&printable=yes', 'https://en.wikipedia.org/https://af.wikipedia.org/wiki/Python', 'https://en.wikipedia.org/https://als.wikipedia.org/wiki/Python', 'https://en.wikipedia.org/https://az.wikipedia.org/wiki/Python', 'https://en.wikipedia.org/https://bn.wikipedia.org/wiki/%E0%A6%AA%E0%A6%BE%E0%A6%87%E0%A6%A5%E0%A6%A8_(%E0%A6%A6%E0%A7%8D%E0%A6%AC%E0%A7%8D%E0%A6%AF%E0%A6%B0%E0%A7%8D%E0%A6%A5%E0%A6%A4%E0%A6%BE_%E0%A6%A8%E0%A6%BF%E0%A6%B0%E0%A6%B8%E0%A6%A8)', 'https://en.wikipedia.org/https://be.wikipedia.org/wiki/Python', 'https://en.wikipedia.org/https://bg.wikipedia.org/wiki/%D0%9F%D0%B8%D1%82%D0%BE%D0%BD_(%D0%BF%D0%BE%D1%8F%D1%81%D0%BD%D0%B5%D0%BD%D0%B8%D0%B5)', 'https://en.wikipedia.org/https://cs.wikipedia.org/wiki/Python_(rozcestn%C3%ADk)', 'https://en.wikipedia.org/https://da.wikipedia.org/wiki/Python', 'https://en.wikipedia.org/https://de.wikipedia.org/wiki/Python', 'https://en.wikipedia.org/https://eo.wikipedia.org/wiki/Pitono_(apartigilo)', 'https://en.wikipedia.org/https://eu.wikipedia.org/wiki/Python_(argipena)', 'https://en.wikipedia.org/https://fa.wikipedia.org/wiki/%D9%BE%D8%A7%DB%8C%D8%AA%D9%88%D9%86', 'https://en.wikipedia.org/https://fr.wikipedia.org/wiki/Python', 'https://en.wikipedia.org/https://ko.wikipedia.org/wiki/%ED%8C%8C%EC%9D%B4%EC%84%A0', 'https://en.wikipedia.org/https://hr.wikipedia.org/wiki/Python_(razdvojba)', 'https://en.wikipedia.org/https://io.wikipedia.org/wiki/Pitono', 'https://en.wikipedia.org/https://id.wikipedia.org/wiki/Python', 'https://en.wikipedia.org/https://ia.wikipedia.org/wiki/Python_(disambiguation)', 'https://en.wikipedia.org/https://is.wikipedia.org/wiki/Python_(a%C3%B0greining)', 'https://en.wikipedia.org/https://it.wikipedia.org/wiki/Python_(disambigua)', 'https://en.wikipedia.org/https://he.wikipedia.org/wiki/%D7%A4%D7%99%D7%AA%D7%95%D7%9F', 'https://en.wikipedia.org/https://ka.wikipedia.org/wiki/%E1%83%9E%E1%83%98%E1%83%97%E1%83%9D%E1%83%9C%E1%83%98_(%E1%83%9B%E1%83%A0%E1%83%90%E1%83%95%E1%83%90%E1%83%9A%E1%83%9B%E1%83%9C%E1%83%98%E1%83%A8%E1%83%95%E1%83%9C%E1%83%94%E1%83%9A%E1%83%9D%E1%83%95%E1%83%90%E1%83%9C%E1%83%98)', 'https://en.wikipedia.org/https://kg.wikipedia.org/wiki/Mboma_(nyoka)', 'https://en.wikipedia.org/https://la.wikipedia.org/wiki/Python_(discretiva)', 'https://en.wikipedia.org/https://lb.wikipedia.org/wiki/Python', 'https://en.wikipedia.org/https://hu.wikipedia.org/wiki/Python_(egy%C3%A9rtelm%C5%B1s%C3%ADt%C5%91_lap)', 'https://en.wikipedia.org/https://mr.wikipedia.org/wiki/%E0%A4%AA%E0%A4%BE%E0%A4%AF%E0%A4%A5%E0%A5%89%E0%A4%A8_(%E0%A4%86%E0%A4%9C%E0%A5%8D%E0%A4%9E%E0%A4%BE%E0%A4%B5%E0%A4%B2%E0%A5%80_%E0%A4%AD%E0%A4%BE%E0%A4%B7%E0%A4%BE)', 'https://en.wikipedia.org/https://nl.wikipedia.org/wiki/Python', 'https://en.wikipedia.org/https://ja.wikipedia.org/wiki/%E3%83%91%E3%82%A4%E3%82%BD%E3%83%B3', 'https://en.wikipedia.org/https://no.wikipedia.org/wiki/Pyton', 'https://en.wikipedia.org/https://pl.wikipedia.org/wiki/Pyton', 'https://en.wikipedia.org/https://pt.wikipedia.org/wiki/Python_(desambigua%C3%A7%C3%A3o)', 'https://en.wikipedia.org/https://ru.wikipedia.org/wiki/Python_(%D0%B7%D0%BD%D0%B0%D1%87%D0%B5%D0%BD%D0%B8%D1%8F)', 'https://en.wikipedia.org/https://sd.wikipedia.org/wiki/%D8%A7%D8%B1%DA%99', 'https://en.wikipedia.org/https://sk.wikipedia.org/wiki/Python', 'https://en.wikipedia.org/https://sr.wikipedia.org/wiki/%D0%9F%D0%B8%D1%82%D0%BE%D0%BD_(%D0%B2%D0%B8%D1%88%D0%B5%D0%B7%D0%BD%D0%B0%D1%87%D0%BD%D0%B0_%D0%BE%D0%B4%D1%80%D0%B5%D0%B4%D0%BD%D0%B8%D1%86%D0%B0)', 'https://en.wikipedia.org/https://sh.wikipedia.org/wiki/Python', 'https://en.wikipedia.org/https://fi.wikipedia.org/wiki/Python', 'https://en.wikipedia.org/https://sv.wikipedia.org/wiki/Pyton', 'https://en.wikipedia.org/https://th.wikipedia.org/wiki/%E0%B9%84%E0%B8%9E%E0%B8%97%E0%B8%AD%E0%B8%99', 'https://en.wikipedia.org/https://tr.wikipedia.org/wiki/Python', 'https://en.wikipedia.org/https://uk.wikipedia.org/wiki/%D0%9F%D1%96%D1%84%D0%BE%D0%BD', 'https://en.wikipedia.org/https://ur.wikipedia.org/wiki/%D9%BE%D8%A7%D8%A6%DB%8C%D8%AA%DA%BE%D9%88%D9%86', 'https://en.wikipedia.org/https://vi.wikipedia.org/wiki/Python', 'https://en.wikipedia.org/https://zh.wikipedia.org/wiki/Python_(%E6%B6%88%E6%AD%A7%E4%B9%89)', 'https://en.wikipedia.org/https://www.wikidata.org/wiki/Special:EntityPage/Q747452#sitelinks-wikipedia', 'https://en.wikipedia.org///en.wikipedia.org/wiki/Wikipedia:Text_of_Creative_Commons_Attribution-ShareAlike_3.0_Unported_License', 'https://en.wikipedia.org///creativecommons.org/licenses/by-sa/3.0/', 'https://en.wikipedia.org///foundation.wikimedia.org/wiki/Terms_of_Use', 'https://en.wikipedia.org///foundation.wikimedia.org/wiki/Privacy_policy', 'https://en.wikipedia.org///www.wikimediafoundation.org/', 'https://en.wikipedia.org/https://foundation.wikimedia.org/wiki/Privacy_policy', 'https://en.wikipedia.org//wiki/Wikipedia:About', 'https://en.wikipedia.org//wiki/Wikipedia:General_disclaimer', 'https://en.wikipedia.org///en.wikipedia.org/wiki/Wikipedia:Contact_us', 'https://en.wikipedia.org/https://www.mediawiki.org/wiki/Special:MyLanguage/How_to_contribute', 'https://en.wikipedia.org/https://foundation.wikimedia.org/wiki/Cookie_statement', 'https://en.wikipedia.org///en.m.wikipedia.org/w/index.php?title=Python&mobileaction=toggle_view_mobile', 'https://en.wikipedia.org/https://wikimediafoundation.org/', 'https://en.wikipedia.org/https://www.mediawiki.org/']\n"
     ]
    }
   ],
   "source": [
    "refs = soup.find_all(href=True)\n",
    "hrefs= []\n",
    "for href in refs:\n",
    "    hrefs.append('https://en.wikipedia.org/{}'.format(href.get('href')))\n",
    "print(hrefs)"
   ]
  },
  {
   "cell_type": "markdown",
   "metadata": {},
   "source": [
    "#### Number of Titles that have changed in the United States Code since its last release point "
   ]
  },
  {
   "cell_type": "code",
   "execution_count": null,
   "metadata": {},
   "outputs": [],
   "source": [
    "# This is the url you will scrape in this exercise\n",
    "url = 'http://uscode.house.gov/download/download.shtml'"
   ]
  },
  {
   "cell_type": "code",
   "execution_count": null,
   "metadata": {},
   "outputs": [],
   "source": [
    "html = requests.get(url).text"
   ]
  },
  {
   "cell_type": "code",
   "execution_count": null,
   "metadata": {},
   "outputs": [],
   "source": []
  },
  {
   "cell_type": "markdown",
   "metadata": {},
   "source": [
    "#### A Python list with the top ten FBI's Most Wanted names "
   ]
  },
  {
   "cell_type": "code",
   "execution_count": null,
   "metadata": {},
   "outputs": [],
   "source": [
    "# This is the url you will scrape in this exercise\n",
    "url = 'https://www.fbi.gov/wanted/topten'"
   ]
  },
  {
   "cell_type": "code",
   "execution_count": null,
   "metadata": {},
   "outputs": [],
   "source": [
    "#your code "
   ]
  },
  {
   "cell_type": "markdown",
   "metadata": {},
   "source": [
    "####  20 latest earthquakes info (date, time, latitude, longitude and region name) by the EMSC as a pandas dataframe"
   ]
  },
  {
   "cell_type": "code",
   "execution_count": null,
   "metadata": {},
   "outputs": [],
   "source": [
    "# This is the url you will scrape in this exercise\n",
    "url = 'https://www.emsc-csem.org/Earthquake/'"
   ]
  },
  {
   "cell_type": "code",
   "execution_count": null,
   "metadata": {},
   "outputs": [],
   "source": [
    "#your code"
   ]
  },
  {
   "cell_type": "markdown",
   "metadata": {},
   "source": [
    "#### Display the date, days, title, city, country of next 25 hackathon events as a Pandas dataframe table"
   ]
  },
  {
   "cell_type": "code",
   "execution_count": null,
   "metadata": {},
   "outputs": [],
   "source": [
    "# This is the url you will scrape in this exercise\n",
    "url ='https://hackevents.co/hackathons'"
   ]
  },
  {
   "cell_type": "code",
   "execution_count": null,
   "metadata": {},
   "outputs": [],
   "source": [
    "#your code"
   ]
  },
  {
   "cell_type": "markdown",
   "metadata": {},
   "source": [
    "#### Count number of tweets by a given Twitter account."
   ]
  },
  {
   "cell_type": "markdown",
   "metadata": {},
   "source": [
    "You will need to include a ***try/except block*** for account names not found. \n",
    "<br>***Hint:*** the program should count the number of tweets for any provided account"
   ]
  },
  {
   "cell_type": "code",
   "execution_count": null,
   "metadata": {},
   "outputs": [],
   "source": [
    "# This is the url you will scrape in this exercise \n",
    "# You will need to add the account credentials to this url\n",
    "url = 'https://twitter.com/'"
   ]
  },
  {
   "cell_type": "code",
   "execution_count": null,
   "metadata": {},
   "outputs": [],
   "source": [
    "#your code"
   ]
  },
  {
   "cell_type": "markdown",
   "metadata": {},
   "source": [
    "#### Number of followers of a given twitter account"
   ]
  },
  {
   "cell_type": "markdown",
   "metadata": {},
   "source": [
    "You will need to include a ***try/except block*** in case account/s name not found. \n",
    "<br>***Hint:*** the program should count the followers for any provided account"
   ]
  },
  {
   "cell_type": "code",
   "execution_count": null,
   "metadata": {},
   "outputs": [],
   "source": [
    "# This is the url you will scrape in this exercise \n",
    "# You will need to add the account credentials to this url\n",
    "url = 'https://twitter.com/'"
   ]
  },
  {
   "cell_type": "code",
   "execution_count": null,
   "metadata": {},
   "outputs": [],
   "source": [
    "#your code"
   ]
  },
  {
   "cell_type": "markdown",
   "metadata": {},
   "source": [
    "#### List all language names and number of related articles in the order they appear in wikipedia.org"
   ]
  },
  {
   "cell_type": "code",
   "execution_count": null,
   "metadata": {},
   "outputs": [],
   "source": [
    "# This is the url you will scrape in this exercise\n",
    "url = 'https://www.wikipedia.org/'"
   ]
  },
  {
   "cell_type": "code",
   "execution_count": null,
   "metadata": {},
   "outputs": [],
   "source": [
    "#your code"
   ]
  },
  {
   "cell_type": "markdown",
   "metadata": {},
   "source": [
    "#### A list with the different kind of datasets available in data.gov.uk "
   ]
  },
  {
   "cell_type": "code",
   "execution_count": null,
   "metadata": {},
   "outputs": [],
   "source": [
    "# This is the url you will scrape in this exercise\n",
    "url = 'https://data.gov.uk/'"
   ]
  },
  {
   "cell_type": "code",
   "execution_count": null,
   "metadata": {},
   "outputs": [],
   "source": [
    "#your code "
   ]
  },
  {
   "cell_type": "markdown",
   "metadata": {},
   "source": [
    "#### Top 10 languages by number of native speakers stored in a Pandas Dataframe"
   ]
  },
  {
   "cell_type": "code",
   "execution_count": null,
   "metadata": {},
   "outputs": [],
   "source": [
    "# This is the url you will scrape in this exercise\n",
    "url = 'https://en.wikipedia.org/wiki/List_of_languages_by_number_of_native_speakers'"
   ]
  },
  {
   "cell_type": "code",
   "execution_count": null,
   "metadata": {},
   "outputs": [],
   "source": [
    "#your code"
   ]
  },
  {
   "cell_type": "markdown",
   "metadata": {},
   "source": [
    "### BONUS QUESTIONS"
   ]
  },
  {
   "cell_type": "markdown",
   "metadata": {},
   "source": [
    "#### Scrape a certain number of tweets of a given Twitter account."
   ]
  },
  {
   "cell_type": "code",
   "execution_count": null,
   "metadata": {},
   "outputs": [],
   "source": [
    "# This is the url you will scrape in this exercise \n",
    "# You will need to add the account credentials to this url\n",
    "url = 'https://twitter.com/'"
   ]
  },
  {
   "cell_type": "code",
   "execution_count": null,
   "metadata": {},
   "outputs": [],
   "source": [
    "# your code"
   ]
  },
  {
   "cell_type": "markdown",
   "metadata": {},
   "source": [
    "#### IMDB's Top 250 data (movie name, Initial release, director name and stars) as a pandas dataframe"
   ]
  },
  {
   "cell_type": "code",
   "execution_count": null,
   "metadata": {},
   "outputs": [],
   "source": [
    "# This is the url you will scrape in this exercise \n",
    "url = 'https://www.imdb.com/chart/top'"
   ]
  },
  {
   "cell_type": "code",
   "execution_count": null,
   "metadata": {},
   "outputs": [],
   "source": [
    "# your code"
   ]
  },
  {
   "cell_type": "markdown",
   "metadata": {},
   "source": [
    "#### Movie name, year and a brief summary of the top 10 random movies (IMDB) as a pandas dataframe."
   ]
  },
  {
   "cell_type": "code",
   "execution_count": null,
   "metadata": {},
   "outputs": [],
   "source": [
    "#This is the url you will scrape in this exercise\n",
    "url = 'http://www.imdb.com/chart/top'"
   ]
  },
  {
   "cell_type": "code",
   "execution_count": null,
   "metadata": {},
   "outputs": [],
   "source": [
    "#your code"
   ]
  },
  {
   "cell_type": "markdown",
   "metadata": {},
   "source": [
    "#### Find the live weather report (temperature, wind speed, description and weather) of a given city."
   ]
  },
  {
   "cell_type": "code",
   "execution_count": null,
   "metadata": {},
   "outputs": [],
   "source": [
    "#https://openweathermap.org/current\n",
    "city = city=input('Enter the city:')\n",
    "url = 'http://api.openweathermap.org/data/2.5/weather?'+'q='+city+'&APPID=b35975e18dc93725acb092f7272cc6b8&units=metric'"
   ]
  },
  {
   "cell_type": "code",
   "execution_count": null,
   "metadata": {},
   "outputs": [],
   "source": [
    "# your code"
   ]
  },
  {
   "cell_type": "markdown",
   "metadata": {},
   "source": [
    "#### Book name,price and stock availability as a pandas dataframe."
   ]
  },
  {
   "cell_type": "code",
   "execution_count": null,
   "metadata": {},
   "outputs": [],
   "source": [
    "# This is the url you will scrape in this exercise. \n",
    "# It is a fictional bookstore created to be scraped. \n",
    "url = 'http://books.toscrape.com/'"
   ]
  },
  {
   "cell_type": "code",
   "execution_count": null,
   "metadata": {},
   "outputs": [],
   "source": [
    "#your code"
   ]
  }
 ],
 "metadata": {
  "kernelspec": {
   "display_name": "Python 3",
   "language": "python",
   "name": "python3"
  },
  "language_info": {
   "codemirror_mode": {
    "name": "ipython",
    "version": 3
   },
   "file_extension": ".py",
   "mimetype": "text/x-python",
   "name": "python",
   "nbconvert_exporter": "python",
   "pygments_lexer": "ipython3",
   "version": "3.6.8"
  }
 },
 "nbformat": 4,
 "nbformat_minor": 2
}
